{
 "cells": [
  {
   "cell_type": "code",
   "execution_count": 4,
   "metadata": {},
   "outputs": [
    {
     "name": "stdout",
     "output_type": "stream",
     "text": [
      "Haiku about Python:\n",
      "Indentation key,\n",
      "Pythonic code flows so clean,\n",
      "Expressive, serene.\n",
      "\n",
      "Explanation:\n",
      "This Haiku is highlighting the use of indentation in Python programming. In Python, indentation is not just for readability but is essential for defining the structure and scope of the code. The poet appreciates how the use of indentation in Python results in clean, expressive, and serene code, making it easier to read and understand. It reflects the elegance and simplicity that Python programming language offers.\n"
     ]
    }
   ],
   "source": [
    "import openai\n",
    "\n",
    "def chat_with_openai(messages, model=\"gpt-3.5-turbo\"):\n",
    "    response = openai.ChatCompletion.create(\n",
    "        model=model,\n",
    "        messages=messages\n",
    "    )\n",
    "    return response.choices[0].message['content'].strip()\n",
    "\n",
    "def generate_and_explain_haiku(language_name):\n",
    "    haiku_messages = [\n",
    "        {\n",
    "            \"role\": \"system\",\n",
    "            \"content\": \"Write a Haiku about the following programming language.\"\n",
    "        },\n",
    "        {\n",
    "            \"role\": \"user\",\n",
    "            \"content\": language_name\n",
    "        }\n",
    "    ]\n",
    "    \n",
    "    haiku = chat_with_openai(messages=haiku_messages)\n",
    "    \n",
    "    explanation_messages = [\n",
    "        {\n",
    "            \"role\": \"system\",\n",
    "            \"content\": \"Explain the following Haiku.\"\n",
    "        },\n",
    "        {\n",
    "            \"role\": \"user\",\n",
    "            \"content\": haiku\n",
    "        }\n",
    "    ]\n",
    "    \n",
    "    explanation = chat_with_openai(messages=explanation_messages)\n",
    "    \n",
    "    return haiku, explanation\n",
    "\n",
    "# Example usage:\n",
    "language_name = \"Python\"\n",
    "haiku, explanation = generate_and_explain_haiku(language_name)\n",
    "print(f\"Haiku about {language_name}:\\n{haiku}\\n\\nExplanation:\\n{explanation}\")\n"
   ]
  },
  {
   "cell_type": "code",
   "execution_count": null,
   "metadata": {},
   "outputs": [],
   "source": []
  }
 ],
 "metadata": {
  "kernelspec": {
   "display_name": ".venv",
   "language": "python",
   "name": "python3"
  },
  "language_info": {
   "codemirror_mode": {
    "name": "ipython",
    "version": 3
   },
   "file_extension": ".py",
   "mimetype": "text/x-python",
   "name": "python",
   "nbconvert_exporter": "python",
   "pygments_lexer": "ipython3",
   "version": "3.11.6"
  }
 },
 "nbformat": 4,
 "nbformat_minor": 2
}
