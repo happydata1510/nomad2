{
 "cells": [
  {
   "cell_type": "code",
   "execution_count": 34,
   "metadata": {},
   "outputs": [],
   "source": [
    "from langchain import PromptTemplate, FewShotPromptTemplate\n",
    "from langchain.chains import LLMChain\n",
    "from langchain.chat_models import ChatOpenAI\n",
    "import openai\n",
    "from dotenv import load_dotenv\n",
    "import os\n",
    "\n",
    "load_dotenv()\n",
    "openai.api_key = os.getenv(\"\")\n",
    "api_key = os.getenv(\"\")"
   ]
  },
  {
   "cell_type": "code",
   "execution_count": 35,
   "metadata": {},
   "outputs": [],
   "source": [
    "# 예시 영화 정보\n",
    "examples = [\n",
    "    {\n",
    "        \"movie_name\": \"인셉션\",\n",
    "        \"director\": \"크리스토퍼 놀란\",\n",
    "        \"cast\": \"레오나르도 디카프리오, 조셉 고든-레빗, 엘렌 페이지, 톰 하디, 킬리언 머피, 마리옹 꼬띠아르\",\n",
    "        \"budget\": \"1억 6천만 달러\",\n",
    "        \"box_office\": \"전 세계 8억 3,630만 달러\",\n",
    "        \"genre\": \"SF, 액션, 모험, 스릴러\",\n",
    "        \"synopsis\": \"돔 코브는 타인의 꿈에 들어가 생각을 훔치는 특수 보안요원이다. 그는 일본 재벌의 제안으로 '인셉션' 작전을 수행하게 되는데, 이는 꿈에 접속해 타인의 생각을 훔치는 것이 아니라 역으로 생각을 심는 것이다. 이 불가능해 보이는 작전의 성공을 위해 돔 코브는 최고의 팀을 조직한다.\"\n",
    "    },\n",
    "    {\n",
    "        \"movie_name\": \"에일리언\",\n",
    "        \"director\": \"리들리 스콧\",\n",
    "        \"cast\": \"시고니 위버, 톰 스커릿, 베로니카 캣라이트, 해리 딘 스탠튼, 존 허트, 이안 홈, 야퍼 코토\",\n",
    "        \"budget\": \"1,100만 달러\",\n",
    "        \"box_office\": \"1억 400만 달러\",\n",
    "        \"genre\": \"SF, 공포, 액션\",\n",
    "        \"synopsis\": \"무역선 노스트로모호는 지구로 귀환하던 중 행성에서 오는 이상한 신호를 받고 그곳에 착륙한다. 선원들이 신호의 근원지로 갔을 때, 그들은 신호가 구조 요청이 아닌 경고였다는 사실을 깨닫게 되고, 외계 생명체와 맞닥뜨리게 된다.\"\n",
    "    }\n",
    "]\n",
    "\n",
    "\n",
    "example_formatter_template = \"\"\"\n",
    "영화 제목: {movie_name}\n",
    "감독: {director}\n",
    "주요 출연진: {cast}\n",
    "예산: {budget}\n",
    "흥행 수익: {box_office}\n",
    "장르: {genre}\n",
    "시놉시스: {synopsis}\n",
    "\"\"\""
   ]
  },
  {
   "cell_type": "code",
   "execution_count": 36,
   "metadata": {},
   "outputs": [],
   "source": [
    "prompt = PromptTemplate(\n",
    "    input_variables=[\"movie_name\", \"director\", \"cast\", \"budget\", \"box_office\", \"genre\", \"synopsis\"], \n",
    "    template=example_formatter_template\n",
    ")"
   ]
  },
  {
   "cell_type": "code",
   "execution_count": 37,
   "metadata": {},
   "outputs": [],
   "source": [
    "example_prompt = FewShotPromptTemplate(\n",
    "    examples=examples,\n",
    "    example_prompt=prompt,\n",
    "    prefix=\"아래와 같은 형식으로 영화 정보를 제공해 주세요:\",\n",
    "    suffix=\"영화 제목: {movie_name}\",\n",
    "    input_variables=[\"movie_name\"],\n",
    "    example_separator=\"\\n\\n\"\n",
    ")"
   ]
  },
  {
   "cell_type": "code",
   "execution_count": 38,
   "metadata": {},
   "outputs": [],
   "source": [
    "llm = ChatOpenAI(temperature=0,  openai_api_key=\"\")"
   ]
  },
  {
   "cell_type": "code",
   "execution_count": 39,
   "metadata": {},
   "outputs": [],
   "source": [
    "chain = LLMChain(llm=llm, prompt=example_prompt)"
   ]
  },
  {
   "cell_type": "code",
   "execution_count": 40,
   "metadata": {},
   "outputs": [
    {
     "name": "stdout",
     "output_type": "stream",
     "text": [
      "\n",
      "감독: 래리 워쇼프스키, 앤디 워쇼프스키\n",
      "주요 출연진: 키아누 리브스, 로렌스 피시번, 캐리-앤 모스, 조 팬톌리아노, 휴고 위빙, 글로리아 포스터\n",
      "예산: 6,300만 달러\n",
      "흥행 수익: 4억 6,300만 달러\n",
      "장르: SF, 액션\n",
      "시놉시스: 현실 세계에서는 프로그래머인 네오는 해커로 변신해 매트릭스라는 가상 현실 속으로 들어가게 된다. 그곳에서는 인류가 기계에 의해 놓인 노예 생활을 하고 있는데, 네오는 이를 알게 되고 인류의 자유를 되찾기 위해 싸우기 시작한다.\n"
     ]
    }
   ],
   "source": [
    "# 테스트\n",
    "movie_name = \"매트릭스\"\n",
    "print(chain.run(movie_name))"
   ]
  },
  {
   "cell_type": "code",
   "execution_count": null,
   "metadata": {},
   "outputs": [],
   "source": []
  }
 ],
 "metadata": {
  "kernelspec": {
   "display_name": ".venv",
   "language": "python",
   "name": "python3"
  },
  "language_info": {
   "codemirror_mode": {
    "name": "ipython",
    "version": 3
   },
   "file_extension": ".py",
   "mimetype": "text/x-python",
   "name": "python",
   "nbconvert_exporter": "python",
   "pygments_lexer": "ipython3",
   "version": "3.11.6"
  }
 },
 "nbformat": 4,
 "nbformat_minor": 2
}
